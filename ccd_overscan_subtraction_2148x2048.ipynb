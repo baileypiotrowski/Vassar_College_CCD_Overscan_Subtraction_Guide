{
 "cells": [
  {
   "cell_type": "markdown",
   "id": "2693047d-a482-4bcb-a7f0-61637362b2d7",
   "metadata": {},
   "source": [
    "Overscan Subtraction Code for CCD (with science image dimensions 2148x2048)\n",
    "Adapted from the guide of Dr. Colette Salyk @ https://github.com/csalyk/phot_tutorial/blob/master/phot_tutorial.ipynb\n"
   ]
  },
  {
   "cell_type": "code",
   "execution_count": 16,
   "id": "4daadb74-61be-4de3-86b9-c39a339a4736",
   "metadata": {},
   "outputs": [],
   "source": [
    "%matplotlib inline\n",
    "import matplotlib.pyplot as plt\n",
    "import numpy as np\n",
    "from astropy.io import fits\n",
    "from astropy import units as u\n",
    "from astropy.nddata import CCDData\n",
    "import ccdproc as ccdp\n",
    "from ccdproc import trim_image\n",
    "from ccdproc import subtract_overscan\n",
    "import os\n",
    "from astropy.nddata import CCDData\n",
    "from skimage.registration import phase_cross_correlation\n",
    "import pickle as pickle\n",
    "from photutils.detection import DAOStarFinder\n",
    "from astropy.stats import sigma_clipped_stats\n",
    "from photutils.aperture import CircularAperture, CircularAnnulus, aperture_photometry\n",
    "from astropy.time import Time\n",
    "import pandas as pd"
   ]
  },
  {
   "cell_type": "code",
   "execution_count": 17,
   "id": "92020be9-d5b4-4183-b763-1844aab61790",
   "metadata": {},
   "outputs": [],
   "source": [
    "raw_dir='/Users/bpiotrowski/Desktop/24c04/raw'  #Your Raw Directory\n",
    "overscan_dir='/Users/bpiotrowski/Desktop/24c04/overscan_sub'  #Your Overscan Directory"
   ]
  },
  {
   "cell_type": "code",
   "execution_count": 18,
   "id": "257de4a8-6219-4596-b443-b4b7dce1fd94",
   "metadata": {},
   "outputs": [],
   "source": [
    "def overscan_subtraction(infiles, outdir):\n",
    "    if(not outdir.endswith('/')): outdir=outdir+'/'\n",
    "    if(not os.path.exists(outdir)): os.mkdir(outdir)\n",
    "    \n",
    "    #Scan inbox directory for .fit files\n",
    "    for image in infiles:\n",
    "        outfile=outdir+os.path.split(image)[1]  #Define output file\n",
    "        print('Processing image '+image)\n",
    "           \n",
    "        #Generate a CCDData object from the image's data array\n",
    "        hdul = fits.open(image)\n",
    "        ccddata = CCDData(hdul[0].data, unit=u.adu)\n",
    "\n",
    "        #subtract overscan row-by-row and crop region\n",
    "        overscan_subtracted_data = subtract_overscan(ccddata, overscan=ccddata[:, 2098:2148])\n",
    "        overscan_subtracted_trimmed_data = np.asarray(trim_image(overscan_subtracted_data[:, 50:2098]))    \n",
    "            \n",
    "        #Update header information for image width\n",
    "        header = hdul[0].header\n",
    "        header['NAXIS1'] = 2048\n",
    "        header['IMAGEW'] = 2048\n",
    "    \n",
    "        #Save data to outbox directory.\n",
    "        hdul[0].data = overscan_subtracted_trimmed_data\n",
    "        hdul.writeto(outfile,overwrite=True)"
   ]
  },
  {
   "cell_type": "code",
   "execution_count": 19,
   "id": "f7632195-effe-423e-8a48-38123ef25dcd",
   "metadata": {},
   "outputs": [],
   "source": [
    "#Create the list of input files\n",
    "indir='/Users/bpiotrowski/Desktop/24c04/raw'  #Your Raw Directory\n",
    "filelist=[]\n",
    "for file in os.listdir(indir):\n",
    "    if (file.endswith(\"z.fit\") or file.endswith(\"d.fit\") or file.endswith(\".fit\")):  #Updates biases, darks, and science images (adjust this one)\n",
    "        filelist.append(os.path.join(indir, file))\n",
    "\n",
    "#Define the output directory\n",
    "outdir='/Users/bpiotrowski/Desktop/24c04/overscan_sub'  #Your Overscan Directory"
   ]
  },
  {
   "cell_type": "code",
   "execution_count": 20,
   "id": "87b9827e-2ed3-483c-8e38-a518f282f39d",
   "metadata": {},
   "outputs": [
    {
     "name": "stdout",
     "output_type": "stream",
     "text": [
      "Processing image /Users/bpiotrowski/Desktop/24C04_flats/raw/24C04 DomeFlat R2-005r.fit\n",
      "Processing image /Users/bpiotrowski/Desktop/24C04_flats/raw/24C04 DomeFlat V-003v.fit\n",
      "Processing image /Users/bpiotrowski/Desktop/24C04_flats/raw/24C04 DomeFlat B-002b.fit\n",
      "Processing image /Users/bpiotrowski/Desktop/24C04_flats/raw/24C04 DomeFlat B-003b.fit\n",
      "Processing image /Users/bpiotrowski/Desktop/24C04_flats/raw/24C04 DomeFlat V-002v.fit\n",
      "Processing image /Users/bpiotrowski/Desktop/24C04_flats/raw/24C04 DomeFlat R-001r.fit\n",
      "Processing image /Users/bpiotrowski/Desktop/24C04_flats/raw/24C04 DomeFlat R2-004r.fit\n",
      "Processing image /Users/bpiotrowski/Desktop/24C04_flats/raw/24C04 DomeFlat H-006h.fit\n",
      "Processing image /Users/bpiotrowski/Desktop/24C04_flats/raw/24C04 DomeFlat B-004b.fit\n",
      "Processing image /Users/bpiotrowski/Desktop/24C04_flats/raw/24C04 DomeFlat R2-003r.fit\n",
      "Processing image /Users/bpiotrowski/Desktop/24C04_flats/raw/24C04 DomeFlat R2-002r.fit\n",
      "Processing image /Users/bpiotrowski/Desktop/24C04_flats/raw/24C04 DomeFlat B-005b.fit\n",
      "Processing image /Users/bpiotrowski/Desktop/24C04_flats/raw/24C04 DomeFlat H-007h.fit\n",
      "Processing image /Users/bpiotrowski/Desktop/24C04_flats/raw/24C04 DomeFlat I-004i.fit\n",
      "Processing image /Users/bpiotrowski/Desktop/24C04_flats/raw/24C04 DomeFlat H-004h.fit\n",
      "Processing image /Users/bpiotrowski/Desktop/24C04_flats/raw/24C04 DomeFlat R2-001r.fit\n",
      "Processing image /Users/bpiotrowski/Desktop/24C04_flats/raw/24C04 DomeFlat H-008h.fit\n",
      "Processing image /Users/bpiotrowski/Desktop/24C04_flats/raw/24C04 DomeFlat I-005i.fit\n",
      "Processing image /Users/bpiotrowski/Desktop/24C04_flats/raw/24C04 DomeFlat R-002r.fit\n",
      "Processing image /Users/bpiotrowski/Desktop/24C04_flats/raw/24C04 DomeFlat V-001v.fit\n",
      "Processing image /Users/bpiotrowski/Desktop/24C04_flats/raw/24C04 DomeFlat B-001b.fit\n",
      "Processing image /Users/bpiotrowski/Desktop/24C04_flats/raw/24C04 DomeFlat I-003i.fit\n",
      "Processing image /Users/bpiotrowski/Desktop/24C04_flats/raw/24C04 DomeFlat R-003r.fit\n"
     ]
    }
   ],
   "source": [
    "overscan_subtraction(filelist, outdir)"
   ]
  }
 ],
 "metadata": {
  "kernelspec": {
   "display_name": "Python 3 (ipykernel)",
   "language": "python",
   "name": "python3"
  },
  "language_info": {
   "codemirror_mode": {
    "name": "ipython",
    "version": 3
   },
   "file_extension": ".py",
   "mimetype": "text/x-python",
   "name": "python",
   "nbconvert_exporter": "python",
   "pygments_lexer": "ipython3",
   "version": "3.11.9"
  }
 },
 "nbformat": 4,
 "nbformat_minor": 5
}
